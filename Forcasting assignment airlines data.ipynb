{
 "cells": [
  {
   "cell_type": "code",
   "execution_count": 30,
   "metadata": {},
   "outputs": [],
   "source": [
    "import numpy as np\n",
    "import pandas as pd\n",
    "import matplotlib.pyplot as plt\n",
    "import seaborn as sns\n"
   ]
  },
  {
   "cell_type": "code",
   "execution_count": 31,
   "metadata": {},
   "outputs": [
    {
     "data": {
      "text/html": [
       "<div>\n",
       "<style scoped>\n",
       "    .dataframe tbody tr th:only-of-type {\n",
       "        vertical-align: middle;\n",
       "    }\n",
       "\n",
       "    .dataframe tbody tr th {\n",
       "        vertical-align: top;\n",
       "    }\n",
       "\n",
       "    .dataframe thead th {\n",
       "        text-align: right;\n",
       "    }\n",
       "</style>\n",
       "<table border=\"1\" class=\"dataframe\">\n",
       "  <thead>\n",
       "    <tr style=\"text-align: right;\">\n",
       "      <th></th>\n",
       "      <th>Month</th>\n",
       "      <th>Passengers</th>\n",
       "    </tr>\n",
       "  </thead>\n",
       "  <tbody>\n",
       "    <tr>\n",
       "      <th>0</th>\n",
       "      <td>1995-01-01</td>\n",
       "      <td>112</td>\n",
       "    </tr>\n",
       "    <tr>\n",
       "      <th>1</th>\n",
       "      <td>1995-02-01</td>\n",
       "      <td>118</td>\n",
       "    </tr>\n",
       "    <tr>\n",
       "      <th>2</th>\n",
       "      <td>1995-03-01</td>\n",
       "      <td>132</td>\n",
       "    </tr>\n",
       "    <tr>\n",
       "      <th>3</th>\n",
       "      <td>1995-04-01</td>\n",
       "      <td>129</td>\n",
       "    </tr>\n",
       "    <tr>\n",
       "      <th>4</th>\n",
       "      <td>1995-05-01</td>\n",
       "      <td>121</td>\n",
       "    </tr>\n",
       "  </tbody>\n",
       "</table>\n",
       "</div>"
      ],
      "text/plain": [
       "       Month  Passengers\n",
       "0 1995-01-01         112\n",
       "1 1995-02-01         118\n",
       "2 1995-03-01         132\n",
       "3 1995-04-01         129\n",
       "4 1995-05-01         121"
      ]
     },
     "execution_count": 31,
     "metadata": {},
     "output_type": "execute_result"
    }
   ],
   "source": [
    "airlines= pd.read_excel(\"D://assignments//Assignment 18//Airlines+Data.xlsx\")\n",
    "airlines.head()"
   ]
  },
  {
   "cell_type": "code",
   "execution_count": 32,
   "metadata": {},
   "outputs": [],
   "source": [
    "airlines[\"Date\"] = pd.to_datetime(airlines.Month,format=\"%b-%y\")\n",
    "airlines[\"month\"] = airlines.Date.dt.strftime(\"%b\") # month extraction\n",
    "airlines[\"year\"] = airlines.Date.dt.strftime(\"%Y\") # year extraction"
   ]
  },
  {
   "cell_type": "code",
   "execution_count": 33,
   "metadata": {},
   "outputs": [
    {
     "data": {
      "text/plain": [
       "'Jan'"
      ]
     },
     "execution_count": 33,
     "metadata": {},
     "output_type": "execute_result"
    }
   ],
   "source": [
    "month =['Jan','Feb','Mar','Apr','May','Jun','Jul','Aug','Sep','Oct','Nov','Dec'] \n",
    "p = airlines[\"month\"][0]\n",
    "p[0:3]"
   ]
  },
  {
   "cell_type": "code",
   "execution_count": 34,
   "metadata": {},
   "outputs": [],
   "source": [
    "airlines['months']= 0"
   ]
  },
  {
   "cell_type": "code",
   "execution_count": 35,
   "metadata": {},
   "outputs": [
    {
     "name": "stderr",
     "output_type": "stream",
     "text": [
      "<ipython-input-35-00524c1c41f0>:3: SettingWithCopyWarning: \n",
      "A value is trying to be set on a copy of a slice from a DataFrame\n",
      "\n",
      "See the caveats in the documentation: https://pandas.pydata.org/pandas-docs/stable/user_guide/indexing.html#returning-a-view-versus-a-copy\n",
      "  airlines['months'][i]= p[0:3]\n",
      "C:\\Users\\AMAN SRIVASTAVA\\anaconda3\\lib\\site-packages\\pandas\\core\\indexing.py:670: SettingWithCopyWarning: \n",
      "A value is trying to be set on a copy of a slice from a DataFrame\n",
      "\n",
      "See the caveats in the documentation: https://pandas.pydata.org/pandas-docs/stable/user_guide/indexing.html#returning-a-view-versus-a-copy\n",
      "  iloc._setitem_with_indexer(indexer, value)\n"
     ]
    }
   ],
   "source": [
    "for i in range(96):\n",
    "    p = airlines[\"month\"][i]\n",
    "    airlines['months'][i]= p[0:3]\n",
    "    "
   ]
  },
  {
   "cell_type": "code",
   "execution_count": 36,
   "metadata": {},
   "outputs": [],
   "source": [
    "dummy=pd.DataFrame(pd.get_dummies(airlines['months']))"
   ]
  },
  {
   "cell_type": "code",
   "execution_count": 37,
   "metadata": {},
   "outputs": [
    {
     "data": {
      "text/html": [
       "<div>\n",
       "<style scoped>\n",
       "    .dataframe tbody tr th:only-of-type {\n",
       "        vertical-align: middle;\n",
       "    }\n",
       "\n",
       "    .dataframe tbody tr th {\n",
       "        vertical-align: top;\n",
       "    }\n",
       "\n",
       "    .dataframe thead th {\n",
       "        text-align: right;\n",
       "    }\n",
       "</style>\n",
       "<table border=\"1\" class=\"dataframe\">\n",
       "  <thead>\n",
       "    <tr style=\"text-align: right;\">\n",
       "      <th></th>\n",
       "      <th>Apr</th>\n",
       "      <th>Aug</th>\n",
       "      <th>Dec</th>\n",
       "      <th>Feb</th>\n",
       "      <th>Jan</th>\n",
       "      <th>Jul</th>\n",
       "      <th>Jun</th>\n",
       "      <th>Mar</th>\n",
       "      <th>May</th>\n",
       "      <th>Nov</th>\n",
       "      <th>Oct</th>\n",
       "      <th>Sep</th>\n",
       "    </tr>\n",
       "  </thead>\n",
       "  <tbody>\n",
       "    <tr>\n",
       "      <th>0</th>\n",
       "      <td>0</td>\n",
       "      <td>0</td>\n",
       "      <td>0</td>\n",
       "      <td>0</td>\n",
       "      <td>1</td>\n",
       "      <td>0</td>\n",
       "      <td>0</td>\n",
       "      <td>0</td>\n",
       "      <td>0</td>\n",
       "      <td>0</td>\n",
       "      <td>0</td>\n",
       "      <td>0</td>\n",
       "    </tr>\n",
       "    <tr>\n",
       "      <th>1</th>\n",
       "      <td>0</td>\n",
       "      <td>0</td>\n",
       "      <td>0</td>\n",
       "      <td>1</td>\n",
       "      <td>0</td>\n",
       "      <td>0</td>\n",
       "      <td>0</td>\n",
       "      <td>0</td>\n",
       "      <td>0</td>\n",
       "      <td>0</td>\n",
       "      <td>0</td>\n",
       "      <td>0</td>\n",
       "    </tr>\n",
       "    <tr>\n",
       "      <th>2</th>\n",
       "      <td>0</td>\n",
       "      <td>0</td>\n",
       "      <td>0</td>\n",
       "      <td>0</td>\n",
       "      <td>0</td>\n",
       "      <td>0</td>\n",
       "      <td>0</td>\n",
       "      <td>1</td>\n",
       "      <td>0</td>\n",
       "      <td>0</td>\n",
       "      <td>0</td>\n",
       "      <td>0</td>\n",
       "    </tr>\n",
       "    <tr>\n",
       "      <th>3</th>\n",
       "      <td>1</td>\n",
       "      <td>0</td>\n",
       "      <td>0</td>\n",
       "      <td>0</td>\n",
       "      <td>0</td>\n",
       "      <td>0</td>\n",
       "      <td>0</td>\n",
       "      <td>0</td>\n",
       "      <td>0</td>\n",
       "      <td>0</td>\n",
       "      <td>0</td>\n",
       "      <td>0</td>\n",
       "    </tr>\n",
       "    <tr>\n",
       "      <th>4</th>\n",
       "      <td>0</td>\n",
       "      <td>0</td>\n",
       "      <td>0</td>\n",
       "      <td>0</td>\n",
       "      <td>0</td>\n",
       "      <td>0</td>\n",
       "      <td>0</td>\n",
       "      <td>0</td>\n",
       "      <td>1</td>\n",
       "      <td>0</td>\n",
       "      <td>0</td>\n",
       "      <td>0</td>\n",
       "    </tr>\n",
       "    <tr>\n",
       "      <th>...</th>\n",
       "      <td>...</td>\n",
       "      <td>...</td>\n",
       "      <td>...</td>\n",
       "      <td>...</td>\n",
       "      <td>...</td>\n",
       "      <td>...</td>\n",
       "      <td>...</td>\n",
       "      <td>...</td>\n",
       "      <td>...</td>\n",
       "      <td>...</td>\n",
       "      <td>...</td>\n",
       "      <td>...</td>\n",
       "    </tr>\n",
       "    <tr>\n",
       "      <th>91</th>\n",
       "      <td>0</td>\n",
       "      <td>1</td>\n",
       "      <td>0</td>\n",
       "      <td>0</td>\n",
       "      <td>0</td>\n",
       "      <td>0</td>\n",
       "      <td>0</td>\n",
       "      <td>0</td>\n",
       "      <td>0</td>\n",
       "      <td>0</td>\n",
       "      <td>0</td>\n",
       "      <td>0</td>\n",
       "    </tr>\n",
       "    <tr>\n",
       "      <th>92</th>\n",
       "      <td>0</td>\n",
       "      <td>0</td>\n",
       "      <td>0</td>\n",
       "      <td>0</td>\n",
       "      <td>0</td>\n",
       "      <td>0</td>\n",
       "      <td>0</td>\n",
       "      <td>0</td>\n",
       "      <td>0</td>\n",
       "      <td>0</td>\n",
       "      <td>0</td>\n",
       "      <td>1</td>\n",
       "    </tr>\n",
       "    <tr>\n",
       "      <th>93</th>\n",
       "      <td>0</td>\n",
       "      <td>0</td>\n",
       "      <td>0</td>\n",
       "      <td>0</td>\n",
       "      <td>0</td>\n",
       "      <td>0</td>\n",
       "      <td>0</td>\n",
       "      <td>0</td>\n",
       "      <td>0</td>\n",
       "      <td>0</td>\n",
       "      <td>1</td>\n",
       "      <td>0</td>\n",
       "    </tr>\n",
       "    <tr>\n",
       "      <th>94</th>\n",
       "      <td>0</td>\n",
       "      <td>0</td>\n",
       "      <td>0</td>\n",
       "      <td>0</td>\n",
       "      <td>0</td>\n",
       "      <td>0</td>\n",
       "      <td>0</td>\n",
       "      <td>0</td>\n",
       "      <td>0</td>\n",
       "      <td>1</td>\n",
       "      <td>0</td>\n",
       "      <td>0</td>\n",
       "    </tr>\n",
       "    <tr>\n",
       "      <th>95</th>\n",
       "      <td>0</td>\n",
       "      <td>0</td>\n",
       "      <td>1</td>\n",
       "      <td>0</td>\n",
       "      <td>0</td>\n",
       "      <td>0</td>\n",
       "      <td>0</td>\n",
       "      <td>0</td>\n",
       "      <td>0</td>\n",
       "      <td>0</td>\n",
       "      <td>0</td>\n",
       "      <td>0</td>\n",
       "    </tr>\n",
       "  </tbody>\n",
       "</table>\n",
       "<p>96 rows × 12 columns</p>\n",
       "</div>"
      ],
      "text/plain": [
       "    Apr  Aug  Dec  Feb  Jan  Jul  Jun  Mar  May  Nov  Oct  Sep\n",
       "0     0    0    0    0    1    0    0    0    0    0    0    0\n",
       "1     0    0    0    1    0    0    0    0    0    0    0    0\n",
       "2     0    0    0    0    0    0    0    1    0    0    0    0\n",
       "3     1    0    0    0    0    0    0    0    0    0    0    0\n",
       "4     0    0    0    0    0    0    0    0    1    0    0    0\n",
       "..  ...  ...  ...  ...  ...  ...  ...  ...  ...  ...  ...  ...\n",
       "91    0    1    0    0    0    0    0    0    0    0    0    0\n",
       "92    0    0    0    0    0    0    0    0    0    0    0    1\n",
       "93    0    0    0    0    0    0    0    0    0    0    1    0\n",
       "94    0    0    0    0    0    0    0    0    0    1    0    0\n",
       "95    0    0    1    0    0    0    0    0    0    0    0    0\n",
       "\n",
       "[96 rows x 12 columns]"
      ]
     },
     "execution_count": 37,
     "metadata": {},
     "output_type": "execute_result"
    }
   ],
   "source": [
    "dummy"
   ]
  },
  {
   "cell_type": "code",
   "execution_count": 38,
   "metadata": {},
   "outputs": [],
   "source": [
    "air=pd.concat((airlines,dummy),axis=1)\n",
    "t= np.arange(1,97)\n",
    "air['t']=t\n",
    "air['t_square']=air['t']*air['t']"
   ]
  },
  {
   "cell_type": "code",
   "execution_count": 39,
   "metadata": {},
   "outputs": [],
   "source": [
    "log_pass=np.log(air['Passengers'])\n",
    "air['log_pass']=log_pass"
   ]
  },
  {
   "cell_type": "code",
   "execution_count": 40,
   "metadata": {},
   "outputs": [
    {
     "data": {
      "text/html": [
       "<div>\n",
       "<style scoped>\n",
       "    .dataframe tbody tr th:only-of-type {\n",
       "        vertical-align: middle;\n",
       "    }\n",
       "\n",
       "    .dataframe tbody tr th {\n",
       "        vertical-align: top;\n",
       "    }\n",
       "\n",
       "    .dataframe thead th {\n",
       "        text-align: right;\n",
       "    }\n",
       "</style>\n",
       "<table border=\"1\" class=\"dataframe\">\n",
       "  <thead>\n",
       "    <tr style=\"text-align: right;\">\n",
       "      <th></th>\n",
       "      <th>Month</th>\n",
       "      <th>Passengers</th>\n",
       "      <th>Date</th>\n",
       "      <th>month</th>\n",
       "      <th>year</th>\n",
       "      <th>months</th>\n",
       "      <th>Apr</th>\n",
       "      <th>Aug</th>\n",
       "      <th>Dec</th>\n",
       "      <th>Feb</th>\n",
       "      <th>...</th>\n",
       "      <th>Jul</th>\n",
       "      <th>Jun</th>\n",
       "      <th>Mar</th>\n",
       "      <th>May</th>\n",
       "      <th>Nov</th>\n",
       "      <th>Oct</th>\n",
       "      <th>Sep</th>\n",
       "      <th>t</th>\n",
       "      <th>t_square</th>\n",
       "      <th>log_pass</th>\n",
       "    </tr>\n",
       "  </thead>\n",
       "  <tbody>\n",
       "    <tr>\n",
       "      <th>0</th>\n",
       "      <td>1995-01-01</td>\n",
       "      <td>112</td>\n",
       "      <td>1995-01-01</td>\n",
       "      <td>Jan</td>\n",
       "      <td>1995</td>\n",
       "      <td>Jan</td>\n",
       "      <td>0</td>\n",
       "      <td>0</td>\n",
       "      <td>0</td>\n",
       "      <td>0</td>\n",
       "      <td>...</td>\n",
       "      <td>0</td>\n",
       "      <td>0</td>\n",
       "      <td>0</td>\n",
       "      <td>0</td>\n",
       "      <td>0</td>\n",
       "      <td>0</td>\n",
       "      <td>0</td>\n",
       "      <td>1</td>\n",
       "      <td>1</td>\n",
       "      <td>4.718499</td>\n",
       "    </tr>\n",
       "    <tr>\n",
       "      <th>1</th>\n",
       "      <td>1995-02-01</td>\n",
       "      <td>118</td>\n",
       "      <td>1995-02-01</td>\n",
       "      <td>Feb</td>\n",
       "      <td>1995</td>\n",
       "      <td>Feb</td>\n",
       "      <td>0</td>\n",
       "      <td>0</td>\n",
       "      <td>0</td>\n",
       "      <td>1</td>\n",
       "      <td>...</td>\n",
       "      <td>0</td>\n",
       "      <td>0</td>\n",
       "      <td>0</td>\n",
       "      <td>0</td>\n",
       "      <td>0</td>\n",
       "      <td>0</td>\n",
       "      <td>0</td>\n",
       "      <td>2</td>\n",
       "      <td>4</td>\n",
       "      <td>4.770685</td>\n",
       "    </tr>\n",
       "    <tr>\n",
       "      <th>2</th>\n",
       "      <td>1995-03-01</td>\n",
       "      <td>132</td>\n",
       "      <td>1995-03-01</td>\n",
       "      <td>Mar</td>\n",
       "      <td>1995</td>\n",
       "      <td>Mar</td>\n",
       "      <td>0</td>\n",
       "      <td>0</td>\n",
       "      <td>0</td>\n",
       "      <td>0</td>\n",
       "      <td>...</td>\n",
       "      <td>0</td>\n",
       "      <td>0</td>\n",
       "      <td>1</td>\n",
       "      <td>0</td>\n",
       "      <td>0</td>\n",
       "      <td>0</td>\n",
       "      <td>0</td>\n",
       "      <td>3</td>\n",
       "      <td>9</td>\n",
       "      <td>4.882802</td>\n",
       "    </tr>\n",
       "    <tr>\n",
       "      <th>3</th>\n",
       "      <td>1995-04-01</td>\n",
       "      <td>129</td>\n",
       "      <td>1995-04-01</td>\n",
       "      <td>Apr</td>\n",
       "      <td>1995</td>\n",
       "      <td>Apr</td>\n",
       "      <td>1</td>\n",
       "      <td>0</td>\n",
       "      <td>0</td>\n",
       "      <td>0</td>\n",
       "      <td>...</td>\n",
       "      <td>0</td>\n",
       "      <td>0</td>\n",
       "      <td>0</td>\n",
       "      <td>0</td>\n",
       "      <td>0</td>\n",
       "      <td>0</td>\n",
       "      <td>0</td>\n",
       "      <td>4</td>\n",
       "      <td>16</td>\n",
       "      <td>4.859812</td>\n",
       "    </tr>\n",
       "    <tr>\n",
       "      <th>4</th>\n",
       "      <td>1995-05-01</td>\n",
       "      <td>121</td>\n",
       "      <td>1995-05-01</td>\n",
       "      <td>May</td>\n",
       "      <td>1995</td>\n",
       "      <td>May</td>\n",
       "      <td>0</td>\n",
       "      <td>0</td>\n",
       "      <td>0</td>\n",
       "      <td>0</td>\n",
       "      <td>...</td>\n",
       "      <td>0</td>\n",
       "      <td>0</td>\n",
       "      <td>0</td>\n",
       "      <td>1</td>\n",
       "      <td>0</td>\n",
       "      <td>0</td>\n",
       "      <td>0</td>\n",
       "      <td>5</td>\n",
       "      <td>25</td>\n",
       "      <td>4.795791</td>\n",
       "    </tr>\n",
       "    <tr>\n",
       "      <th>...</th>\n",
       "      <td>...</td>\n",
       "      <td>...</td>\n",
       "      <td>...</td>\n",
       "      <td>...</td>\n",
       "      <td>...</td>\n",
       "      <td>...</td>\n",
       "      <td>...</td>\n",
       "      <td>...</td>\n",
       "      <td>...</td>\n",
       "      <td>...</td>\n",
       "      <td>...</td>\n",
       "      <td>...</td>\n",
       "      <td>...</td>\n",
       "      <td>...</td>\n",
       "      <td>...</td>\n",
       "      <td>...</td>\n",
       "      <td>...</td>\n",
       "      <td>...</td>\n",
       "      <td>...</td>\n",
       "      <td>...</td>\n",
       "      <td>...</td>\n",
       "    </tr>\n",
       "    <tr>\n",
       "      <th>91</th>\n",
       "      <td>2002-08-01</td>\n",
       "      <td>405</td>\n",
       "      <td>2002-08-01</td>\n",
       "      <td>Aug</td>\n",
       "      <td>2002</td>\n",
       "      <td>Aug</td>\n",
       "      <td>0</td>\n",
       "      <td>1</td>\n",
       "      <td>0</td>\n",
       "      <td>0</td>\n",
       "      <td>...</td>\n",
       "      <td>0</td>\n",
       "      <td>0</td>\n",
       "      <td>0</td>\n",
       "      <td>0</td>\n",
       "      <td>0</td>\n",
       "      <td>0</td>\n",
       "      <td>0</td>\n",
       "      <td>92</td>\n",
       "      <td>8464</td>\n",
       "      <td>6.003887</td>\n",
       "    </tr>\n",
       "    <tr>\n",
       "      <th>92</th>\n",
       "      <td>2002-09-01</td>\n",
       "      <td>355</td>\n",
       "      <td>2002-09-01</td>\n",
       "      <td>Sep</td>\n",
       "      <td>2002</td>\n",
       "      <td>Sep</td>\n",
       "      <td>0</td>\n",
       "      <td>0</td>\n",
       "      <td>0</td>\n",
       "      <td>0</td>\n",
       "      <td>...</td>\n",
       "      <td>0</td>\n",
       "      <td>0</td>\n",
       "      <td>0</td>\n",
       "      <td>0</td>\n",
       "      <td>0</td>\n",
       "      <td>0</td>\n",
       "      <td>1</td>\n",
       "      <td>93</td>\n",
       "      <td>8649</td>\n",
       "      <td>5.872118</td>\n",
       "    </tr>\n",
       "    <tr>\n",
       "      <th>93</th>\n",
       "      <td>2002-10-01</td>\n",
       "      <td>306</td>\n",
       "      <td>2002-10-01</td>\n",
       "      <td>Oct</td>\n",
       "      <td>2002</td>\n",
       "      <td>Oct</td>\n",
       "      <td>0</td>\n",
       "      <td>0</td>\n",
       "      <td>0</td>\n",
       "      <td>0</td>\n",
       "      <td>...</td>\n",
       "      <td>0</td>\n",
       "      <td>0</td>\n",
       "      <td>0</td>\n",
       "      <td>0</td>\n",
       "      <td>0</td>\n",
       "      <td>1</td>\n",
       "      <td>0</td>\n",
       "      <td>94</td>\n",
       "      <td>8836</td>\n",
       "      <td>5.723585</td>\n",
       "    </tr>\n",
       "    <tr>\n",
       "      <th>94</th>\n",
       "      <td>2002-11-01</td>\n",
       "      <td>271</td>\n",
       "      <td>2002-11-01</td>\n",
       "      <td>Nov</td>\n",
       "      <td>2002</td>\n",
       "      <td>Nov</td>\n",
       "      <td>0</td>\n",
       "      <td>0</td>\n",
       "      <td>0</td>\n",
       "      <td>0</td>\n",
       "      <td>...</td>\n",
       "      <td>0</td>\n",
       "      <td>0</td>\n",
       "      <td>0</td>\n",
       "      <td>0</td>\n",
       "      <td>1</td>\n",
       "      <td>0</td>\n",
       "      <td>0</td>\n",
       "      <td>95</td>\n",
       "      <td>9025</td>\n",
       "      <td>5.602119</td>\n",
       "    </tr>\n",
       "    <tr>\n",
       "      <th>95</th>\n",
       "      <td>2002-12-01</td>\n",
       "      <td>306</td>\n",
       "      <td>2002-12-01</td>\n",
       "      <td>Dec</td>\n",
       "      <td>2002</td>\n",
       "      <td>Dec</td>\n",
       "      <td>0</td>\n",
       "      <td>0</td>\n",
       "      <td>1</td>\n",
       "      <td>0</td>\n",
       "      <td>...</td>\n",
       "      <td>0</td>\n",
       "      <td>0</td>\n",
       "      <td>0</td>\n",
       "      <td>0</td>\n",
       "      <td>0</td>\n",
       "      <td>0</td>\n",
       "      <td>0</td>\n",
       "      <td>96</td>\n",
       "      <td>9216</td>\n",
       "      <td>5.723585</td>\n",
       "    </tr>\n",
       "  </tbody>\n",
       "</table>\n",
       "<p>96 rows × 21 columns</p>\n",
       "</div>"
      ],
      "text/plain": [
       "        Month  Passengers       Date month  year months  Apr  Aug  Dec  Feb  \\\n",
       "0  1995-01-01         112 1995-01-01   Jan  1995    Jan    0    0    0    0   \n",
       "1  1995-02-01         118 1995-02-01   Feb  1995    Feb    0    0    0    1   \n",
       "2  1995-03-01         132 1995-03-01   Mar  1995    Mar    0    0    0    0   \n",
       "3  1995-04-01         129 1995-04-01   Apr  1995    Apr    1    0    0    0   \n",
       "4  1995-05-01         121 1995-05-01   May  1995    May    0    0    0    0   \n",
       "..        ...         ...        ...   ...   ...    ...  ...  ...  ...  ...   \n",
       "91 2002-08-01         405 2002-08-01   Aug  2002    Aug    0    1    0    0   \n",
       "92 2002-09-01         355 2002-09-01   Sep  2002    Sep    0    0    0    0   \n",
       "93 2002-10-01         306 2002-10-01   Oct  2002    Oct    0    0    0    0   \n",
       "94 2002-11-01         271 2002-11-01   Nov  2002    Nov    0    0    0    0   \n",
       "95 2002-12-01         306 2002-12-01   Dec  2002    Dec    0    0    1    0   \n",
       "\n",
       "    ...  Jul  Jun  Mar  May  Nov  Oct  Sep   t  t_square  log_pass  \n",
       "0   ...    0    0    0    0    0    0    0   1         1  4.718499  \n",
       "1   ...    0    0    0    0    0    0    0   2         4  4.770685  \n",
       "2   ...    0    0    1    0    0    0    0   3         9  4.882802  \n",
       "3   ...    0    0    0    0    0    0    0   4        16  4.859812  \n",
       "4   ...    0    0    0    1    0    0    0   5        25  4.795791  \n",
       "..  ...  ...  ...  ...  ...  ...  ...  ...  ..       ...       ...  \n",
       "91  ...    0    0    0    0    0    0    0  92      8464  6.003887  \n",
       "92  ...    0    0    0    0    0    0    1  93      8649  5.872118  \n",
       "93  ...    0    0    0    0    0    1    0  94      8836  5.723585  \n",
       "94  ...    0    0    0    0    1    0    0  95      9025  5.602119  \n",
       "95  ...    0    0    0    0    0    0    0  96      9216  5.723585  \n",
       "\n",
       "[96 rows x 21 columns]"
      ]
     },
     "execution_count": 40,
     "metadata": {},
     "output_type": "execute_result"
    }
   ],
   "source": [
    "air"
   ]
  },
  {
   "cell_type": "code",
   "execution_count": 41,
   "metadata": {},
   "outputs": [
    {
     "data": {
      "text/plain": [
       "<AxesSubplot:>"
      ]
     },
     "execution_count": 41,
     "metadata": {},
     "output_type": "execute_result"
    },
    {
     "data": {
      "image/png": "[encoded data removed]",
      "text/plain": [
       "<Figure size 432x288 with 1 Axes>"
      ]
     },
     "metadata": {
      "needs_background": "light"
     },
     "output_type": "display_data"
    }
   ],
   "source": [
    "train= air.head(85)\n",
    "test=air.tail(12)\n",
    "air.Passengers.plot()"
   ]
  },
  {
   "cell_type": "code",
   "execution_count": 42,
   "metadata": {},
   "outputs": [],
   "source": [
    "import statsmodels.formula.api as smf "
   ]
  },
  {
   "cell_type": "code",
   "execution_count": 43,
   "metadata": {},
   "outputs": [
    {
     "data": {
      "text/plain": [
       "28.26852648035964"
      ]
     },
     "execution_count": 43,
     "metadata": {},
     "output_type": "execute_result"
    }
   ],
   "source": [
    "#linear model\n",
    "linear= smf.ols('Passengers~t',data=train).fit()\n",
    "pred_lin=pd.Series(linear.predict(pd.DataFrame(test['t'])))\n",
    "rmse_lin=np.sqrt((np.mean(np.array(test['Passengers'])-np.array(pred_lin))**2))\n",
    "rmse_lin"
   ]
  },
  {
   "cell_type": "code",
   "execution_count": 44,
   "metadata": {},
   "outputs": [
    {
     "data": {
      "text/plain": [
       "48.61868346293974"
      ]
     },
     "execution_count": 44,
     "metadata": {},
     "output_type": "execute_result"
    }
   ],
   "source": [
    "#quadratic model\n",
    "quad=smf.ols('Passengers~t+t_square',data=train).fit()\n",
    "pred_quad=pd.Series(quad.predict(pd.DataFrame(test[['t','t_square']])))\n",
    "rmse_quad=np.sqrt(np.mean((np.array(test['Passengers'])-np.array(pred_quad))**2))\n",
    "rmse_quad"
   ]
  },
  {
   "cell_type": "code",
   "execution_count": 45,
   "metadata": {},
   "outputs": [
    {
     "data": {
      "text/plain": [
       "46.199508966828255"
      ]
     },
     "execution_count": 45,
     "metadata": {},
     "output_type": "execute_result"
    }
   ],
   "source": [
    "#exponential model\n",
    "expo=smf.ols('log_pass~t',data=train).fit()\n",
    "pred_exp=pd.Series(expo.predict(pd.DataFrame(test['t'])))\n",
    "rmse_expo=np.sqrt(np.mean((np.array(test['Passengers'])-np.array(np.exp(pred_exp)))**2))\n",
    "rmse_expo"
   ]
  },
  {
   "cell_type": "code",
   "execution_count": 46,
   "metadata": {},
   "outputs": [
    {
     "data": {
      "text/plain": [
       "131.8486873070806"
      ]
     },
     "execution_count": 46,
     "metadata": {},
     "output_type": "execute_result"
    }
   ],
   "source": [
    "#additive seasonality\n",
    "additive= smf.ols('Passengers~ Jan+Feb+Mar+Apr+May+Jun+Jul+Aug+Sep+Oct+Nov+Dec',data=train).fit()\n",
    "pred_add=pd.Series(additive.predict(pd.DataFrame(test[['Jan','Feb','Mar','Apr','May','Jun','Jul','Aug','Sep','Oct','Nov','Dec']])))\n",
    "rmse_add=np.sqrt(np.mean((np.array(test['Passengers'])-np.array(pred_add))**2))\n",
    "rmse_add"
   ]
  },
  {
   "cell_type": "code",
   "execution_count": 47,
   "metadata": {},
   "outputs": [
    {
     "data": {
      "text/plain": [
       "34.9758562790146"
      ]
     },
     "execution_count": 47,
     "metadata": {},
     "output_type": "execute_result"
    }
   ],
   "source": [
    "#additive seasonality with linear trend\n",
    "addlinear= smf.ols('Passengers~t+Jan+Feb+Mar+Apr+May+Jun+Jul+Aug+Sep+Oct+Nov+Dec',data=train).fit()\n",
    "predaddlinear=pd.Series(addlinear.predict(pd.DataFrame(test[['t','Jan','Feb','Mar','Apr','May','Jun','Jul','Aug','Sep','Oct','Nov','Dec']])))\n",
    "rmseaddlinear=np.sqrt(np.mean((np.array(test['Passengers'])-np.array(predaddlinear))**2))\n",
    "rmseaddlinear"
   ]
  },
  {
   "cell_type": "code",
   "execution_count": 48,
   "metadata": {},
   "outputs": [
    {
     "data": {
      "text/plain": [
       "26.249333540082556"
      ]
     },
     "execution_count": 48,
     "metadata": {},
     "output_type": "execute_result"
    }
   ],
   "source": [
    "#additive seasonality with quadratic trend\n",
    "addquad=smf.ols('Passengers~t+t_square+Jan+Feb+Mar+Apr+May+Jun+Jul+Aug+Sep+Oct+Nov+Dec',data=train).fit()\n",
    "predaddquad=pd.Series(addquad.predict(pd.DataFrame(test[['t','t_square','Jan','Feb','Mar','Apr','May','Jun','Jul','Aug','Sep','Oct','Nov','Dec']])))\n",
    "rmseaddquad=np.sqrt(np.mean((np.array(test['Passengers'])-np.array(predaddquad))**2))\n",
    "rmseaddquad"
   ]
  },
  {
   "cell_type": "code",
   "execution_count": 49,
   "metadata": {},
   "outputs": [
    {
     "data": {
      "text/plain": [
       "139.2611440094573"
      ]
     },
     "execution_count": 49,
     "metadata": {},
     "output_type": "execute_result"
    }
   ],
   "source": [
    "#multiplicative seasonality\n",
    "mulsea=smf.ols('log_pass~Jan+Feb+Mar+Apr+May+Jun+Jul+Aug+Sep+Oct+Nov+Dec',data=train).fit()\n",
    "pred_mul= pd.Series(mulsea.predict(pd.DataFrame(test[['Jan','Feb','Mar','Apr','May','Jun','Jul','Aug','Sep','Oct','Nov','Dec']])))\n",
    "rmse_mul= np.sqrt(np.mean((np.array(test['Passengers'])-np.array(np.exp(pred_mul)))**2))\n",
    "rmse_mul"
   ]
  },
  {
   "cell_type": "code",
   "execution_count": 50,
   "metadata": {},
   "outputs": [
    {
     "data": {
      "text/plain": [
       "10.426867009035979"
      ]
     },
     "execution_count": 50,
     "metadata": {},
     "output_type": "execute_result"
    }
   ],
   "source": [
    "#multiplicative seasonality with linear trend\n",
    "mullin= smf.ols('log_pass~t+Jan+Feb+Mar+Apr+May+Jun+Jul+Aug+Sep+Oct+Nov+Dec',data=train).fit()\n",
    "predmullin= pd.Series(mullin.predict(pd.DataFrame(test[['t','Jan','Feb','Mar','Apr','May','Jun','Jul','Aug','Sep','Oct','Nov','Dec']])))\n",
    "rmsemulin=np.sqrt(np.mean((np.array(test['Passengers'])-np.array(np.exp(predmullin)))**2))\n",
    "rmsemulin"
   ]
  },
  {
   "cell_type": "code",
   "execution_count": 51,
   "metadata": {},
   "outputs": [
    {
     "data": {
      "text/plain": [
       "17.08975513158383"
      ]
     },
     "execution_count": 51,
     "metadata": {},
     "output_type": "execute_result"
    }
   ],
   "source": [
    "#multiplicative seasonality with quadratic trend\n",
    "mul_quad= smf.ols('log_pass~t+t_square+Jan+Feb+Mar+Apr+May+Jun+Jul+Aug+Sep+Oct+Nov+Dec',data=train).fit()\n",
    "pred_mul_quad= pd.Series(mul_quad.predict(test[['t','t_square','Jan','Feb','Mar','Apr','May','Jun','Jul','Aug','Sep','Oct','Nov','Dec']]))\n",
    "rmse_mul_quad=np.sqrt(np.mean((np.array(test['Passengers'])-np.array(np.exp(pred_mul_quad)))**2))\n",
    "rmse_mul_quad"
   ]
  },
  {
   "cell_type": "code",
   "execution_count": 52,
   "metadata": {},
   "outputs": [
    {
     "data": {
      "text/html": [
       "<div>\n",
       "<style scoped>\n",
       "    .dataframe tbody tr th:only-of-type {\n",
       "        vertical-align: middle;\n",
       "    }\n",
       "\n",
       "    .dataframe tbody tr th {\n",
       "        vertical-align: top;\n",
       "    }\n",
       "\n",
       "    .dataframe thead th {\n",
       "        text-align: right;\n",
       "    }\n",
       "</style>\n",
       "<table border=\"1\" class=\"dataframe\">\n",
       "  <thead>\n",
       "    <tr style=\"text-align: right;\">\n",
       "      <th></th>\n",
       "      <th>Model</th>\n",
       "      <th>RMSE_Values</th>\n",
       "    </tr>\n",
       "  </thead>\n",
       "  <tbody>\n",
       "    <tr>\n",
       "      <th>7</th>\n",
       "      <td>rmsemulin</td>\n",
       "      <td>10.426867</td>\n",
       "    </tr>\n",
       "    <tr>\n",
       "      <th>0</th>\n",
       "      <td>rmse_mul_quad</td>\n",
       "      <td>17.089755</td>\n",
       "    </tr>\n",
       "    <tr>\n",
       "      <th>3</th>\n",
       "      <td>rmseaddquad</td>\n",
       "      <td>26.249334</td>\n",
       "    </tr>\n",
       "    <tr>\n",
       "      <th>5</th>\n",
       "      <td>rmse_lin</td>\n",
       "      <td>28.268526</td>\n",
       "    </tr>\n",
       "    <tr>\n",
       "      <th>2</th>\n",
       "      <td>rmseaddlinear</td>\n",
       "      <td>34.975856</td>\n",
       "    </tr>\n",
       "    <tr>\n",
       "      <th>4</th>\n",
       "      <td>rmse_expo</td>\n",
       "      <td>46.199509</td>\n",
       "    </tr>\n",
       "    <tr>\n",
       "      <th>8</th>\n",
       "      <td>rmse_quad</td>\n",
       "      <td>48.618683</td>\n",
       "    </tr>\n",
       "    <tr>\n",
       "      <th>1</th>\n",
       "      <td>rmse_add</td>\n",
       "      <td>131.848687</td>\n",
       "    </tr>\n",
       "    <tr>\n",
       "      <th>6</th>\n",
       "      <td>rmse_mul</td>\n",
       "      <td>139.261144</td>\n",
       "    </tr>\n",
       "  </tbody>\n",
       "</table>\n",
       "</div>"
      ],
      "text/plain": [
       "           Model  RMSE_Values\n",
       "7      rmsemulin    10.426867\n",
       "0  rmse_mul_quad    17.089755\n",
       "3    rmseaddquad    26.249334\n",
       "5       rmse_lin    28.268526\n",
       "2  rmseaddlinear    34.975856\n",
       "4      rmse_expo    46.199509\n",
       "8      rmse_quad    48.618683\n",
       "1       rmse_add   131.848687\n",
       "6       rmse_mul   139.261144"
      ]
     },
     "execution_count": 52,
     "metadata": {},
     "output_type": "execute_result"
    }
   ],
   "source": [
    "data={'Model':pd.Series(['rmse_mul_quad','rmse_add','rmseaddlinear','rmseaddquad','rmse_expo','rmse_lin','rmse_mul','rmsemulin','rmse_quad']),\"RMSE_Values\":pd.Series([rmse_mul_quad,rmse_add,rmseaddlinear,rmseaddquad,rmse_expo,rmse_lin,rmse_mul,rmsemulin,rmse_quad])}\n",
    "table_rmse=pd.DataFrame(data)\n",
    "table_rmse.sort_values(['RMSE_Values'])"
   ]
  },
  {
   "cell_type": "raw",
   "metadata": {},
   "source": [
    "here the RMSE is lowest for multiplicative seasonality with linear trend. hence we choose the same model for prediction"
   ]
  },
  {
   "cell_type": "code",
   "execution_count": 53,
   "metadata": {},
   "outputs": [
    {
     "data": {
      "text/plain": [
       "0     107.728094\n",
       "1     108.950966\n",
       "2     125.818440\n",
       "3     121.845099\n",
       "4     121.145299\n",
       "         ...    \n",
       "91    390.738658\n",
       "92    349.686530\n",
       "93    306.789691\n",
       "94    269.063940\n",
       "95    308.195031\n",
       "Length: 96, dtype: float64"
      ]
     },
     "execution_count": 53,
     "metadata": {},
     "output_type": "execute_result"
    }
   ],
   "source": [
    "final= smf.ols('log_pass~t+t_square+Jan+Feb+Mar+Apr+May+Jun+Jul+Aug+Sep+Oct+Nov+Dec',data=air).fit()\n",
    "pred= pd.Series(final.predict(air))\n",
    "actual_pred = np.exp(pred)\n",
    "actual_pred"
   ]
  },
  {
   "cell_type": "code",
   "execution_count": 28,
   "metadata": {},
   "outputs": [
    {
     "name": "stdout",
     "output_type": "stream",
     "text": [
      "Collecting pmdarima\n",
      "  Using cached pmdarima-1.8.2-cp38-cp38-win_amd64.whl (596 kB)\n",
      "Requirement already satisfied: joblib>=0.11 in c:\\users\\aman srivastava\\anaconda3\\lib\\site-packages (from pmdarima) (0.17.0)\n",
      "Requirement already satisfied: scipy>=1.3.2 in c:\\users\\aman srivastava\\anaconda3\\lib\\site-packages (from pmdarima) (1.5.2)\n",
      "Requirement already satisfied: pandas>=0.19 in c:\\users\\aman srivastava\\anaconda3\\lib\\site-packages (from pmdarima) (1.1.3)\n",
      "Requirement already satisfied: statsmodels!=0.12.0,>=0.11 in c:\\users\\aman srivastava\\anaconda3\\lib\\site-packages (from pmdarima) (0.12.2)\n",
      "Requirement already satisfied: setuptools!=50.0.0,>=38.6.0 in c:\\users\\aman srivastava\\anaconda3\\lib\\site-packages (from pmdarima) (50.3.1.post20201107)\n",
      "Requirement already satisfied: numpy~=1.19.0 in c:\\users\\aman srivastava\\anaconda3\\lib\\site-packages (from pmdarima) (1.19.2)\n",
      "Requirement already satisfied: urllib3 in c:\\users\\aman srivastava\\anaconda3\\lib\\site-packages (from pmdarima) (1.25.11)\n",
      "Requirement already satisfied: Cython!=0.29.18,>=0.29 in c:\\users\\aman srivastava\\anaconda3\\lib\\site-packages (from pmdarima) (0.29.21)\n",
      "Requirement already satisfied: scikit-learn>=0.22 in c:\\users\\aman srivastava\\anaconda3\\lib\\site-packages (from pmdarima) (0.23.2)\n",
      "Requirement already satisfied: pytz>=2017.2 in c:\\users\\aman srivastava\\anaconda3\\lib\\site-packages (from pandas>=0.19->pmdarima) (2020.1)\n",
      "Requirement already satisfied: python-dateutil>=2.7.3 in c:\\users\\aman srivastava\\anaconda3\\lib\\site-packages (from pandas>=0.19->pmdarima) (2.8.1)\n",
      "Requirement already satisfied: patsy>=0.5 in c:\\users\\aman srivastava\\anaconda3\\lib\\site-packages (from statsmodels!=0.12.0,>=0.11->pmdarima) (0.5.1)\n",
      "Requirement already satisfied: threadpoolctl>=2.0.0 in c:\\users\\aman srivastava\\anaconda3\\lib\\site-packages (from scikit-learn>=0.22->pmdarima) (2.1.0)\n",
      "Requirement already satisfied: six>=1.5 in c:\\users\\aman srivastava\\anaconda3\\lib\\site-packages (from python-dateutil>=2.7.3->pandas>=0.19->pmdarima) (1.15.0)\n",
      "Installing collected packages: pmdarima\n",
      "Successfully installed pmdarima-1.8.2\n"
     ]
    }
   ],
   "source": [
    "!pip install  pmdarima"
   ]
  },
  {
   "cell_type": "code",
   "execution_count": 61,
   "metadata": {},
   "outputs": [
    {
     "name": "stdout",
     "output_type": "stream",
     "text": [
      " ARIMA(0,1,0)(0,1,0)[12]             : AIC=543.172, Time=0.02 sec\n",
      " ARIMA(0,1,0)(0,1,1)[12]             : AIC=539.689, Time=0.06 sec\n",
      " ARIMA(0,1,0)(0,1,2)[12]             : AIC=541.417, Time=0.13 sec\n",
      " ARIMA(0,1,0)(1,1,0)[12]             : AIC=539.745, Time=0.06 sec\n",
      " ARIMA(0,1,0)(1,1,1)[12]             : AIC=541.547, Time=0.08 sec\n",
      " ARIMA(0,1,0)(1,1,2)[12]             : AIC=inf, Time=0.94 sec\n",
      " ARIMA(0,1,0)(2,1,0)[12]             : AIC=541.369, Time=0.10 sec\n",
      " ARIMA(0,1,0)(2,1,1)[12]             : AIC=inf, Time=0.59 sec\n",
      " ARIMA(0,1,0)(2,1,2)[12]             : AIC=inf, Time=0.96 sec\n",
      " ARIMA(0,1,1)(0,1,0)[12]             : AIC=540.192, Time=0.02 sec\n",
      " ARIMA(0,1,1)(0,1,1)[12]             : AIC=537.888, Time=0.09 sec\n",
      " ARIMA(0,1,1)(0,1,2)[12]             : AIC=538.884, Time=0.22 sec\n",
      " ARIMA(0,1,1)(1,1,0)[12]             : AIC=537.388, Time=0.06 sec\n",
      " ARIMA(0,1,1)(1,1,1)[12]             : AIC=539.387, Time=0.13 sec\n",
      " ARIMA(0,1,1)(1,1,2)[12]             : AIC=inf, Time=1.04 sec\n",
      " ARIMA(0,1,1)(2,1,0)[12]             : AIC=539.385, Time=0.15 sec\n",
      " ARIMA(0,1,1)(2,1,1)[12]             : AIC=inf, Time=1.05 sec\n",
      " ARIMA(0,1,1)(2,1,2)[12]             : AIC=inf, Time=1.27 sec\n",
      " ARIMA(0,1,2)(0,1,0)[12]             : AIC=542.077, Time=0.03 sec\n",
      " ARIMA(0,1,2)(0,1,1)[12]             : AIC=539.762, Time=0.14 sec\n",
      " ARIMA(0,1,2)(0,1,2)[12]             : AIC=540.702, Time=0.24 sec\n",
      " ARIMA(0,1,2)(1,1,0)[12]             : AIC=539.235, Time=0.08 sec\n",
      " ARIMA(0,1,2)(1,1,1)[12]             : AIC=541.231, Time=0.18 sec\n",
      " ARIMA(0,1,2)(1,1,2)[12]             : AIC=inf, Time=1.16 sec\n",
      " ARIMA(0,1,2)(2,1,0)[12]             : AIC=541.227, Time=0.19 sec\n",
      " ARIMA(0,1,2)(2,1,1)[12]             : AIC=inf, Time=1.27 sec\n",
      " ARIMA(0,1,3)(0,1,0)[12]             : AIC=538.458, Time=0.06 sec\n",
      " ARIMA(0,1,3)(0,1,1)[12]             : AIC=537.242, Time=0.17 sec\n",
      " ARIMA(0,1,3)(0,1,2)[12]             : AIC=538.529, Time=0.45 sec\n",
      " ARIMA(0,1,3)(1,1,0)[12]             : AIC=536.802, Time=0.20 sec\n",
      " ARIMA(0,1,3)(1,1,1)[12]             : AIC=538.734, Time=0.39 sec\n",
      " ARIMA(0,1,3)(2,1,0)[12]             : AIC=538.695, Time=0.22 sec\n",
      " ARIMA(0,1,4)(0,1,0)[12]             : AIC=540.408, Time=0.08 sec\n",
      " ARIMA(0,1,4)(0,1,1)[12]             : AIC=539.071, Time=0.20 sec\n",
      " ARIMA(0,1,4)(1,1,0)[12]             : AIC=538.672, Time=0.15 sec\n",
      " ARIMA(0,1,5)(0,1,0)[12]             : AIC=542.207, Time=0.18 sec\n",
      " ARIMA(1,1,0)(0,1,0)[12]             : AIC=540.215, Time=0.02 sec\n",
      " ARIMA(1,1,0)(0,1,1)[12]             : AIC=537.948, Time=0.09 sec\n",
      " ARIMA(1,1,0)(0,1,2)[12]             : AIC=539.054, Time=0.19 sec\n",
      " ARIMA(1,1,0)(1,1,0)[12]             : AIC=537.489, Time=0.06 sec\n",
      " ARIMA(1,1,0)(1,1,1)[12]             : AIC=539.489, Time=0.10 sec\n",
      " ARIMA(1,1,0)(1,1,2)[12]             : AIC=inf, Time=1.00 sec\n",
      " ARIMA(1,1,0)(2,1,0)[12]             : AIC=539.489, Time=0.16 sec\n",
      " ARIMA(1,1,0)(2,1,1)[12]             : AIC=inf, Time=1.03 sec\n",
      " ARIMA(1,1,0)(2,1,2)[12]             : AIC=inf, Time=1.18 sec\n",
      " ARIMA(1,1,1)(0,1,0)[12]             : AIC=541.118, Time=0.04 sec\n",
      " ARIMA(1,1,1)(0,1,1)[12]             : AIC=539.493, Time=0.20 sec\n",
      " ARIMA(1,1,1)(0,1,2)[12]             : AIC=540.736, Time=0.40 sec\n",
      " ARIMA(1,1,1)(1,1,0)[12]             : AIC=539.078, Time=0.10 sec\n",
      " ARIMA(1,1,1)(1,1,1)[12]             : AIC=541.071, Time=0.19 sec\n",
      " ARIMA(1,1,1)(1,1,2)[12]             : AIC=inf, Time=0.98 sec\n",
      " ARIMA(1,1,1)(2,1,0)[12]             : AIC=541.063, Time=0.29 sec\n",
      " ARIMA(1,1,1)(2,1,1)[12]             : AIC=inf, Time=1.23 sec\n",
      " ARIMA(1,1,2)(0,1,0)[12]             : AIC=543.017, Time=0.06 sec\n",
      " ARIMA(1,1,2)(0,1,1)[12]             : AIC=541.312, Time=0.24 sec\n",
      " ARIMA(1,1,2)(0,1,2)[12]             : AIC=542.381, Time=0.42 sec\n",
      " ARIMA(1,1,2)(1,1,0)[12]             : AIC=540.831, Time=0.17 sec\n",
      " ARIMA(1,1,2)(1,1,1)[12]             : AIC=542.815, Time=0.33 sec\n",
      " ARIMA(1,1,2)(2,1,0)[12]             : AIC=542.798, Time=0.35 sec\n",
      " ARIMA(1,1,3)(0,1,0)[12]             : AIC=540.422, Time=0.10 sec\n",
      " ARIMA(1,1,3)(0,1,1)[12]             : AIC=539.126, Time=0.30 sec\n",
      " ARIMA(1,1,3)(1,1,0)[12]             : AIC=538.715, Time=0.27 sec\n",
      " ARIMA(1,1,4)(0,1,0)[12]             : AIC=inf, Time=0.45 sec\n",
      " ARIMA(2,1,0)(0,1,0)[12]             : AIC=542.110, Time=0.03 sec\n",
      " ARIMA(2,1,0)(0,1,1)[12]             : AIC=539.916, Time=0.14 sec\n",
      " ARIMA(2,1,0)(0,1,2)[12]             : AIC=541.043, Time=0.29 sec\n",
      " ARIMA(2,1,0)(1,1,0)[12]             : AIC=539.466, Time=0.10 sec\n",
      " ARIMA(2,1,0)(1,1,1)[12]             : AIC=541.465, Time=0.14 sec\n",
      " ARIMA(2,1,0)(1,1,2)[12]             : AIC=inf, Time=1.65 sec\n",
      " ARIMA(2,1,0)(2,1,0)[12]             : AIC=541.465, Time=0.22 sec\n",
      " ARIMA(2,1,0)(2,1,1)[12]             : AIC=inf, Time=1.63 sec\n",
      " ARIMA(2,1,1)(0,1,0)[12]             : AIC=543.079, Time=0.10 sec\n",
      " ARIMA(2,1,1)(0,1,1)[12]             : AIC=539.256, Time=1.59 sec\n",
      " ARIMA(2,1,1)(0,1,2)[12]             : AIC=540.531, Time=0.65 sec\n",
      " ARIMA(2,1,1)(1,1,0)[12]             : AIC=538.899, Time=0.31 sec\n",
      " ARIMA(2,1,1)(1,1,1)[12]             : AIC=540.890, Time=0.42 sec\n",
      " ARIMA(2,1,1)(2,1,0)[12]             : AIC=540.881, Time=0.65 sec\n",
      " ARIMA(2,1,2)(0,1,0)[12]             : AIC=541.734, Time=0.11 sec\n",
      " ARIMA(2,1,2)(0,1,1)[12]             : AIC=540.157, Time=0.58 sec\n",
      " ARIMA(2,1,2)(1,1,0)[12]             : AIC=539.791, Time=0.46 sec\n",
      " ARIMA(2,1,3)(0,1,0)[12]             : AIC=542.144, Time=0.37 sec\n",
      " ARIMA(3,1,0)(0,1,0)[12]             : AIC=538.895, Time=0.03 sec\n",
      " ARIMA(3,1,0)(0,1,1)[12]             : AIC=538.437, Time=0.18 sec\n",
      " ARIMA(3,1,0)(0,1,2)[12]             : AIC=539.421, Time=0.34 sec\n",
      " ARIMA(3,1,0)(1,1,0)[12]             : AIC=537.992, Time=0.14 sec\n",
      " ARIMA(3,1,0)(1,1,1)[12]             : AIC=539.817, Time=0.73 sec\n",
      " ARIMA(3,1,0)(2,1,0)[12]             : AIC=539.648, Time=0.26 sec\n",
      " ARIMA(3,1,1)(0,1,0)[12]             : AIC=540.446, Time=0.06 sec\n",
      " ARIMA(3,1,1)(0,1,1)[12]             : AIC=539.578, Time=0.38 sec\n",
      " ARIMA(3,1,1)(1,1,0)[12]             : AIC=539.097, Time=0.26 sec\n",
      " ARIMA(3,1,2)(0,1,0)[12]             : AIC=539.829, Time=0.24 sec\n",
      " ARIMA(4,1,0)(0,1,0)[12]             : AIC=540.270, Time=0.07 sec\n",
      " ARIMA(4,1,0)(0,1,1)[12]             : AIC=539.399, Time=0.23 sec\n",
      " ARIMA(4,1,0)(1,1,0)[12]             : AIC=538.904, Time=0.16 sec\n",
      " ARIMA(4,1,1)(0,1,0)[12]             : AIC=542.150, Time=0.17 sec\n",
      " ARIMA(5,1,0)(0,1,0)[12]             : AIC=542.107, Time=0.08 sec\n",
      "\n",
      "Best model:  ARIMA(0,1,3)(1,1,0)[12]          \n",
      "Total fit time: 35.157 seconds\n"
     ]
    }
   ],
   "source": [
    "from pmdarima import auto_arima\n",
    "arima_model = auto_arima(train[\"Passengers\"],start_p=0,\n",
    "                              start_q=0,max_p=10,max_q=10,\n",
    "                              m=12,start_P=0,seasonal=True,\n",
    "                              d=1,D=1,trace=True,error_action=\"ignore\",\n",
    "                              suppress_warnings= True,\n",
    "                              stepwise=False)"
   ]
  },
  {
   "cell_type": "code",
   "execution_count": 56,
   "metadata": {},
   "outputs": [
    {
     "data": {
      "text/html": [
       "<table class=\"simpletable\">\n",
       "<caption>SARIMAX Results</caption>\n",
       "<tr>\n",
       "  <th>Dep. Variable:</th>                  <td>y</td>                <th>  No. Observations:  </th>    <td>85</td>   \n",
       "</tr>\n",
       "<tr>\n",
       "  <th>Model:</th>           <td>SARIMAX(0, 1, 3)x(1, 1, [], 12)</td> <th>  Log Likelihood     </th> <td>-263.401</td>\n",
       "</tr>\n",
       "<tr>\n",
       "  <th>Date:</th>                   <td>Tue, 24 Aug 2021</td>         <th>  AIC                </th>  <td>536.802</td>\n",
       "</tr>\n",
       "<tr>\n",
       "  <th>Time:</th>                       <td>22:12:32</td>             <th>  BIC                </th>  <td>548.185</td>\n",
       "</tr>\n",
       "<tr>\n",
       "  <th>Sample:</th>                         <td>0</td>                <th>  HQIC               </th>  <td>541.333</td>\n",
       "</tr>\n",
       "<tr>\n",
       "  <th></th>                              <td> - 85</td>              <th>                     </th>     <td> </td>   \n",
       "</tr>\n",
       "<tr>\n",
       "  <th>Covariance Type:</th>               <td>opg</td>               <th>                     </th>     <td> </td>   \n",
       "</tr>\n",
       "</table>\n",
       "<table class=\"simpletable\">\n",
       "<tr>\n",
       "      <td></td>        <th>coef</th>     <th>std err</th>      <th>z</th>      <th>P>|z|</th>  <th>[0.025</th>    <th>0.975]</th>  \n",
       "</tr>\n",
       "<tr>\n",
       "  <th>ma.L1</th>    <td>   -0.2740</td> <td>    0.122</td> <td>   -2.239</td> <td> 0.025</td> <td>   -0.514</td> <td>   -0.034</td>\n",
       "</tr>\n",
       "<tr>\n",
       "  <th>ma.L2</th>    <td>    0.0533</td> <td>    0.143</td> <td>    0.372</td> <td> 0.710</td> <td>   -0.227</td> <td>    0.334</td>\n",
       "</tr>\n",
       "<tr>\n",
       "  <th>ma.L3</th>    <td>   -0.2611</td> <td>    0.144</td> <td>   -1.818</td> <td> 0.069</td> <td>   -0.543</td> <td>    0.020</td>\n",
       "</tr>\n",
       "<tr>\n",
       "  <th>ar.S.L12</th> <td>   -0.2358</td> <td>    0.120</td> <td>   -1.961</td> <td> 0.050</td> <td>   -0.471</td> <td>   -0.000</td>\n",
       "</tr>\n",
       "<tr>\n",
       "  <th>sigma2</th>   <td>   86.9252</td> <td>   15.260</td> <td>    5.696</td> <td> 0.000</td> <td>   57.016</td> <td>  116.834</td>\n",
       "</tr>\n",
       "</table>\n",
       "<table class=\"simpletable\">\n",
       "<tr>\n",
       "  <th>Ljung-Box (L1) (Q):</th>     <td>0.01</td> <th>  Jarque-Bera (JB):  </th> <td>1.46</td>\n",
       "</tr>\n",
       "<tr>\n",
       "  <th>Prob(Q):</th>                <td>0.94</td> <th>  Prob(JB):          </th> <td>0.48</td>\n",
       "</tr>\n",
       "<tr>\n",
       "  <th>Heteroskedasticity (H):</th> <td>2.57</td> <th>  Skew:              </th> <td>0.35</td>\n",
       "</tr>\n",
       "<tr>\n",
       "  <th>Prob(H) (two-sided):</th>    <td>0.02</td> <th>  Kurtosis:          </th> <td>2.91</td>\n",
       "</tr>\n",
       "</table><br/><br/>Warnings:<br/>[1] Covariance matrix calculated using the outer product of gradients (complex-step)."
      ],
      "text/plain": [
       "<class 'statsmodels.iolib.summary.Summary'>\n",
       "\"\"\"\n",
       "                                      SARIMAX Results                                      \n",
       "===========================================================================================\n",
       "Dep. Variable:                                   y   No. Observations:                   85\n",
       "Model:             SARIMAX(0, 1, 3)x(1, 1, [], 12)   Log Likelihood                -263.401\n",
       "Date:                             Tue, 24 Aug 2021   AIC                            536.802\n",
       "Time:                                     22:12:32   BIC                            548.185\n",
       "Sample:                                          0   HQIC                           541.333\n",
       "                                              - 85                                         \n",
       "Covariance Type:                               opg                                         \n",
       "==============================================================================\n",
       "                 coef    std err          z      P>|z|      [0.025      0.975]\n",
       "------------------------------------------------------------------------------\n",
       "ma.L1         -0.2740      0.122     -2.239      0.025      -0.514      -0.034\n",
       "ma.L2          0.0533      0.143      0.372      0.710      -0.227       0.334\n",
       "ma.L3         -0.2611      0.144     -1.818      0.069      -0.543       0.020\n",
       "ar.S.L12      -0.2358      0.120     -1.961      0.050      -0.471      -0.000\n",
       "sigma2        86.9252     15.260      5.696      0.000      57.016     116.834\n",
       "===================================================================================\n",
       "Ljung-Box (L1) (Q):                   0.01   Jarque-Bera (JB):                 1.46\n",
       "Prob(Q):                              0.94   Prob(JB):                         0.48\n",
       "Heteroskedasticity (H):               2.57   Skew:                             0.35\n",
       "Prob(H) (two-sided):                  0.02   Kurtosis:                         2.91\n",
       "===================================================================================\n",
       "\n",
       "Warnings:\n",
       "[1] Covariance matrix calculated using the outer product of gradients (complex-step).\n",
       "\"\"\""
      ]
     },
     "execution_count": 56,
     "metadata": {},
     "output_type": "execute_result"
    }
   ],
   "source": [
    "arima_model.summary()"
   ]
  },
  {
   "cell_type": "code",
   "execution_count": 57,
   "metadata": {},
   "outputs": [
    {
     "data": {
      "text/plain": [
       "array([  0.        , 111.9984409 , 118.00047611, 131.99833363,\n",
       "       129.00010005, 120.99985192, 134.99959041, 147.99999108,\n",
       "       147.99981292, 136.00033901, 119.00021779, 104.0009414 ,\n",
       "       174.00144247, 121.00369173, 138.67937849, 137.96024986,\n",
       "       126.70672368, 138.7271343 , 159.84710982, 168.24501136,\n",
       "       155.40088924, 137.74610268, 119.36320107, 128.65802375,\n",
       "       135.12191024, 154.15230912, 163.60150053, 166.09993457,\n",
       "       156.15851875, 185.39583981, 200.79461935, 194.96632594,\n",
       "       187.72956988, 162.59167177, 142.85380267, 169.25027635,\n",
       "       170.32605355, 176.23578934, 204.78741944, 183.37659767,\n",
       "       184.56016176, 196.6228532 , 233.6800876 , 232.55417933,\n",
       "       219.34256307, 190.59019062, 171.16346948, 195.90757508,\n",
       "       199.46023647, 204.68484001, 215.23057201, 218.04258413,\n",
       "       237.37791505, 254.93786523, 255.52013352, 272.39809008,\n",
       "       246.92194539, 218.54033304, 194.34895696, 207.64857437,\n",
       "       206.73340558, 210.26316353, 229.32307749, 229.37840848,\n",
       "       229.65263663, 250.15229001, 279.9358795 , 304.50037774,\n",
       "       259.18271741, 228.56397868, 203.70291865, 224.49933725,\n",
       "       230.37975177, 227.01237741, 276.15263692, 260.44380035,\n",
       "       268.53939954, 298.67184176, 342.36134706, 353.56830862,\n",
       "       311.45368581, 276.79471485, 249.33049118, 264.90795559,\n",
       "       285.12752993])"
      ]
     },
     "execution_count": 57,
     "metadata": {},
     "output_type": "execute_result"
    }
   ],
   "source": [
    "arima_model.predict_in_sample( )"
   ]
  },
  {
   "cell_type": "code",
   "execution_count": 58,
   "metadata": {},
   "outputs": [],
   "source": [
    "pred_test = pd.Series(arima_model.predict(n_periods=12))"
   ]
  },
  {
   "cell_type": "code",
   "execution_count": null,
   "metadata": {},
   "outputs": [],
   "source": []
  }
 ],
 "metadata": {
  "kernelspec": {
   "display_name": "Python 3",
   "language": "python",
   "name": "python3"
  },
  "language_info": {
   "codemirror_mode": {
    "name": "ipython",
    "version": 3
   },
   "file_extension": ".py",
   "mimetype": "text/x-python",
   "name": "python",
   "nbconvert_exporter": "python",
   "pygments_lexer": "ipython3",
   "version": "3.8.5"
  }
 },
 "nbformat": 4,
 "nbformat_minor": 4
}
